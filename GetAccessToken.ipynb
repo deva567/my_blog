{
 "cells": [
  {
   "cell_type": "code",
   "execution_count": null,
   "metadata": {},
   "outputs": [
    {
     "name": "stdout",
     "output_type": "stream",
     "text": [
      "Generate access Token :  https://kite.trade/connect/login?api_key='knezpu1290s0fgkn'&v=3\n"
     ]
    }
   ],
   "source": [
    "from kiteconnect import KiteConnect\n",
    "from kiteconnect import KiteTicker\n",
    "import pandas as pd\n",
    "from configparser import ConfigParser \n",
    "  \n",
    "configur = ConfigParser() \n",
    "configur.read('config.ini')\n",
    "Api_key= configur.get('credentials','Api_key')\n",
    "Api_secret= configur.get('credentials','Api_secret')\n",
    "\n",
    "\n",
    "def get_login(Api_key, Api_secret): \n",
    "    '''This function will gives Access Token based on Api Parameters'''\n",
    "    try:\n",
    "        kite = KiteConnect(api_key=Api_key)\n",
    "        print(\"Generate access Token : \", kite.login_url())\n",
    "        request_tkn = input(\"Enter Your Request Token Here : \")\n",
    "        print('comes')\n",
    "        data = kite.generate_session(request_tkn, api_secret=Api_secret)\n",
    "        kite.set_access_token(data[\"access_token\"])\n",
    "        kws = KiteTicker(Api_key, data[\"access_token\"])\n",
    "        print('Access_Token is :: ',data['access_token'])\n",
    "\n",
    "\n",
    "    except :\n",
    "        print('Token is invalid or has expired.')\n",
    "\n",
    "\n",
    "get_login(Api_key, Api_secret)\n"
   ]
  },
  {
   "cell_type": "code",
   "execution_count": null,
   "metadata": {},
   "outputs": [],
   "source": []
  }
 ],
 "metadata": {
  "kernelspec": {
   "display_name": "Python 3",
   "language": "python",
   "name": "python3"
  },
  "language_info": {
   "codemirror_mode": {
    "name": "ipython",
    "version": 3
   },
   "file_extension": ".py",
   "mimetype": "text/x-python",
   "name": "python",
   "nbconvert_exporter": "python",
   "pygments_lexer": "ipython3",
   "version": "3.7.6"
  }
 },
 "nbformat": 4,
 "nbformat_minor": 4
}
